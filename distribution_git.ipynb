{
  "nbformat": 4,
  "nbformat_minor": 0,
  "metadata": {
    "colab": {
      "name": "distribution_git.ipynb",
      "provenance": [],
      "collapsed_sections": [
        "oHP6quamKpem",
        "7_Aro-tEK5zL",
        "3_HR2r0oK-Am",
        "F-q9ec13VV5z",
        "cC1BWA7Kk99I",
        "AHCoX9RGMtoI",
        "1VOWD2aPGT43"
      ],
      "toc_visible": true,
      "machine_shape": "hm"
    },
    "kernelspec": {
      "display_name": "Python 3",
      "language": "python",
      "name": "python3"
    },
    "language_info": {
      "codemirror_mode": {
        "name": "ipython",
        "version": 3
      },
      "file_extension": ".py",
      "mimetype": "text/x-python",
      "name": "python",
      "nbconvert_exporter": "python",
      "pygments_lexer": "ipython3",
      "version": "3.6.9"
    },
    "accelerator": "GPU"
  },
  "cells": [
    {
      "cell_type": "markdown",
      "metadata": {
        "id": "oHP6quamKpem"
      },
      "source": [
        "## imports"
      ]
    },
    {
      "cell_type": "code",
      "metadata": {
        "id": "K-RRW9zgdKv5"
      },
      "source": [
        "from time import time\n",
        "from IPython.core.interactiveshell import InteractiveShell\n",
        "InteractiveShell.ast_node_interactivity = \"all\"\n",
        "from pathlib import Path\n",
        "from IPython.display import Image, display\n",
        "import numpy as np\n",
        "import matplotlib.pyplot as plt\n",
        "import torch\n",
        "import torch.nn as nn\n",
        "import torch.nn.functional as F\n",
        "import torch.optim as optim\n",
        "from torch.autograd import Variable\n",
        "from torch.utils import data\n",
        "from torchvision import datasets, transforms\n",
        "from torchvision.transforms.functional import to_pil_image, resize, to_tensor\n",
        "from torchvision.transforms.functional import normalize\n",
        "# from tqdm.notebook import tqdm\n",
        "import os\n",
        "import random"
      ],
      "execution_count": null,
      "outputs": []
    },
    {
      "cell_type": "markdown",
      "metadata": {
        "id": "7_Aro-tEK5zL"
      },
      "source": [
        "## Data "
      ]
    },
    {
      "cell_type": "code",
      "metadata": {
        "id": "cChzUjVOMNc3"
      },
      "source": [
        "# data import and management\n",
        "\n",
        "def load_mnist(img_size=32):\n",
        "    ''' returns data and labels for train and test mnist dataset '''\n",
        "    #---------------- train data -------------------\n",
        "    mnist_train = datasets.MNIST('data', train=True, download=True)\n",
        "    data_train = mnist_train.data\n",
        "    labels_train = [mnist_train[i][1] for i in range(len(data_train))]\n",
        "\n",
        "    pics = []\n",
        "    for pic in data_train:\n",
        "        pic = to_pil_image(pic)\n",
        "        if img_size != 28:\n",
        "            pic = resize(pic, img_size)     # Resize image if needed\n",
        "        pic = to_tensor(pic)                # Tensor conversion normalizes in [0,1]\n",
        "        # pic = normalize(pic, [0.5], [0.5])  # Normalize values in [-1,1]\n",
        "        pics.append(pic)\n",
        "    data_train = torch.stack(pics)\n",
        "\n",
        "    #------------------  test data -----------------------\n",
        "    mnist_test = datasets.MNIST('data', train=False, download=True)\n",
        "    data_test = mnist_test.data\n",
        "    labels_test = [mnist_test[i][1] for i in range(len(data_test))]\n",
        "\n",
        "    pics = []\n",
        "    for pic in data_test:\n",
        "        pic = to_pil_image(pic)\n",
        "        if img_size != 28:\n",
        "            pic = resize(pic, img_size)     # Resize image if needed\n",
        "        pic = to_tensor(pic)                # Tensor conversion normalizes in [0,1]\n",
        "        # pic = normalize(pic, [0.5], [0.5])  # Normalize values in [-1,1] #CHANGER?\n",
        "        pics.append(pic)\n",
        "    data_test = torch.stack(pics)\n",
        "\n",
        "    return (data_train,labels_train), (data_test,labels_test)\n",
        "\n",
        "def query(datafull, nb, bias=0, fav=0):\n",
        "    ''' returns -nb random samples of -datafull '''\n",
        "    data, labels = datafull\n",
        "    idxs = list(range(len(data)))\n",
        "    l = []\n",
        "    h, w = data[0][0].shape\n",
        "    d = torch.empty(nb, 1, h, w)\n",
        "    if bias == 0:\n",
        "        indexes = random.sample(idxs, nb) # drawing nb random indexes\n",
        "    else :\n",
        "        indexes = []\n",
        "        for i in range(nb):\n",
        "            idx = one_query(labels, idxs, bias, fav)\n",
        "            indexes.append(idx)\n",
        "            idxs.remove(idx) # to draw only once each index max\n",
        "    for k, i in enumerate(indexes): # filling our query\n",
        "        d[k] = data[i]\n",
        "        l.append(labels[i])\n",
        "    return d, l\n",
        "\n",
        "def one_query(labels, idxs, redraws, fav):\n",
        "    ''' labels : list of labels\n",
        "        idxs : list of available indexes\n",
        "        draws an index with a favorite label choice \n",
        "        fav : favorite label\n",
        "        redraws : max nb of random redraws while fav not found\n",
        "    '''\n",
        "    lab = -1 \n",
        "    while lab != fav and redraws >= 0:\n",
        "        idx = idxs[random.randint(0, len(idxs)-1)]\n",
        "        lab = labels[idx]\n",
        "        redraws -= 1\n",
        "    return idx\n",
        "\n",
        "def list_to_longtens(l):\n",
        "    ''' changes a list into torch.long tensor '''\n",
        "    tens = torch.empty(len(l), dtype=torch.long)  \n",
        "    for i, lab in enumerate(l):                       \n",
        "        tens[i] = lab\n",
        "    return tens\n",
        "\n",
        "def swap(l, n, m):\n",
        "    ''' swaps n and m values in l list '''\n",
        "    return [m if (v==n) else n if (v==m) else v for v in l]\n",
        "\n",
        "\n",
        "def distribute_data_rd(datafull, distrib, fav_lab=(-1,-1), dish=False, dish_lab=0, gpu=True): \n",
        "    '''draws random data on N nodes following distrib\n",
        "        data, labels : raw data and labels\n",
        "        distrib : int list, list of nb of data points for each node\n",
        "        pref_lab : (prefered label, strength of preference (int))\n",
        "        dish : boolean, if nodes are dishonest \n",
        "        dish_lab : 0 to 4, labelisation method\n",
        "\n",
        "        returns : (list of batches of images, list of batches of labels)\n",
        "    '''\n",
        "    data, labels = datafull\n",
        "    N = len(distrib)\n",
        "    data_dist = []      # list of len N\n",
        "    labels_dist = []    # list of len N\n",
        "    fav, strength = fav_lab\n",
        "\n",
        "    for n, number in enumerate(distrib): #for each node\n",
        "        if fav == -1:  # if no preference\n",
        "            d, l = query(datafull, number)\n",
        "        else:\n",
        "            d, l = query(datafull, number, strength, fav)\n",
        "        if gpu:\n",
        "            data_dist.append(torch.FloatTensor(d).cuda())\n",
        "        else:\n",
        "            data_dist.append(torch.FloatTensor(d))\n",
        "        if dish:                # if dishonest node\n",
        "\n",
        "            # labels modification\n",
        "            if dish_lab == 0: # random\n",
        "                tens = torch.randint(10,(number,), dtype=torch.long)\n",
        "            elif dish_lab == 1: # zeros\n",
        "                tens = torch.zeros(number, dtype=torch.long)\n",
        "            elif dish_lab == 2: # swap 1-7\n",
        "                l = swap(l, 1, 7)\n",
        "                tens = list_to_longtens(l)\n",
        "            elif dish_lab == 3: # swap 2 random (maybe same)\n",
        "                n, m = random.randint(0,10), random.randint(0,10)\n",
        "                l = swap(l, n, m)\n",
        "                tens = list_to_longtens(l)\n",
        "            elif dish_lab == 4: # label +1\n",
        "                tens = (list_to_longtens(l) + 1) % 10\n",
        "\n",
        "        else:           # if honest node \n",
        "            tens = list_to_longtens(l) # needed for CrossEntropy later\n",
        "        if gpu:\n",
        "            tens = tens.cuda()\n",
        "        labels_dist.append(tens)\n",
        "\n",
        "    return data_dist, labels_dist "
      ],
      "execution_count": null,
      "outputs": []
    },
    {
      "cell_type": "markdown",
      "metadata": {
        "id": "3_HR2r0oK-Am"
      },
      "source": [
        "##model"
      ]
    },
    {
      "cell_type": "code",
      "metadata": {
        "id": "7QclvVEyDa4G"
      },
      "source": [
        "#model structure\n",
        "\n",
        "# def get_classifier():\n",
        "#     ''' returns linear baseline classifier '''\n",
        "#     model = nn.Sequential( \n",
        "#         nn.Flatten(),\n",
        "#         nn.Linear(1024, 10),\n",
        "#         nn.Sigmoid()\n",
        "#         )\n",
        "#     return model\n",
        "\n",
        "# def get_classifier():\n",
        "#     ''' returns classifier '''\n",
        "#     chan = 16\n",
        "#     model = nn.Sequential( \n",
        "#         nn.Conv2d(1, chan, kernel_size=3, padding=0),\n",
        "#         nn.Flatten(),\n",
        "#         nn.Linear(900 * chan, 10),\n",
        "#         nn.Sigmoid()\n",
        "#         )\n",
        "#     return model\n",
        "\n",
        "class classifier(nn.Module):\n",
        "    '''CNN Model'''\n",
        "    def __init__(self):\n",
        "        super(classifier, self).__init__()\n",
        "        \n",
        "        # Convolution 1\n",
        "        self.cnn1 = nn.Conv2d(in_channels=1, out_channels=16,\n",
        "                              kernel_size=3, stride=1, padding=0)\n",
        "        self.relu1 = nn.ReLU()\n",
        "        # Max pool 1\n",
        "        self.maxpool1 = nn.MaxPool2d(kernel_size=2)\n",
        "        # Convolution 2\n",
        "        self.cnn2 = nn.Conv2d(in_channels=16, out_channels=32, \n",
        "                              kernel_size=3, stride=1, padding=0)\n",
        "        self.relu2 = nn.ReLU()      \n",
        "        # Max pool 2\n",
        "        self.maxpool2 = nn.MaxPool2d(kernel_size=2)\n",
        "        # Fully connected 1\n",
        "        self.fc1 = nn.Linear(32 * 6 * 6, 10) \n",
        "    \n",
        "    def forward(self, x):\n",
        "        # Set 1\n",
        "        out = self.cnn1(x)\n",
        "        out = self.relu1(out)\n",
        "        out = self.maxpool1(out)  \n",
        "        # Set 2\n",
        "        out = self.cnn2(out)\n",
        "        out = self.relu2(out)\n",
        "        out = self.maxpool2(out)\n",
        "        #Flatten\n",
        "        out = out.view(out.size(0), -1)\n",
        "        #Dense\n",
        "        out = self.fc1(out)\n",
        "        return out\n",
        "def get_classifier():\n",
        "    return classifier()"
      ],
      "execution_count": null,
      "outputs": []
    },
    {
      "cell_type": "markdown",
      "metadata": {
        "id": "yZ0v-iNHLBr4"
      },
      "source": [
        "## Training"
      ]
    },
    {
      "cell_type": "markdown",
      "metadata": {
        "id": "F-q9ec13VV5z"
      },
      "source": [
        "### losses"
      ]
    },
    {
      "cell_type": "code",
      "metadata": {
        "id": "-PH-0T9rrdr8"
      },
      "source": [
        "#loss and scoring functions \n",
        "\n",
        "def local_loss(model_loc, x, y):  \n",
        "    ''' classification loss '''\n",
        "    loss = nn.CrossEntropyLoss()\n",
        "    predicted = model_loc(x)\n",
        "    local = loss(predicted,y)\n",
        "    return local\n",
        "\n",
        "def generalisation_loss(model_loc, model_glob, pow):  \n",
        "    ''' l1 distance between global and local parameter\n",
        "    will be mutliplied by w_n \n",
        "    '''\n",
        "    q, p = pow\n",
        "    l1_norm = sum(((theta-rho)**q).abs().sum() for theta, rho in \n",
        "                  zip(model_loc.parameters(), model_glob.parameters()))**p\n",
        "    return l1_norm\n",
        "\n",
        "def regularisation_loss(model_glob, pow): \n",
        "    ''' l2 squared regularisation of global parameter\n",
        "     will be multiplied by w_0 \n",
        "     '''\n",
        "    q, p = pow\n",
        "    l2_sqr = sum((param**q).abs().sum() for param in model_glob.parameters())**p\n",
        "    return l2_sqr\n",
        "\n",
        "def round_loss(tens): \n",
        "    '''from an input scalar tensor returns rounded integer'''\n",
        "    if type(tens)==int or type(tens)==float:\n",
        "        return int(tens)\n",
        "    else:\n",
        "        return int(tens.item())\n",
        "\n",
        "def tens_count(tens, val):\n",
        "    ''' counts nb of -val in tensor -tens '''\n",
        "    return len(tens) - round_loss(torch.count_nonzero(tens-val))\n",
        "\n",
        "def score(model, datafull):\n",
        "    ''' returns accuracy provided models, images and GTs '''\n",
        "    out = model(datafull[0])\n",
        "    predictions = torch.max(out, 1)[1]\n",
        "    c=0\n",
        "    for a, b in zip(predictions, datafull[1]):\n",
        "        c += int(a==b)\n",
        "    return c/len(datafull[0])"
      ],
      "execution_count": null,
      "outputs": []
    },
    {
      "cell_type": "markdown",
      "metadata": {
        "id": "cC1BWA7Kk99I"
      },
      "source": [
        "### Flower"
      ]
    },
    {
      "cell_type": "code",
      "metadata": {
        "id": "-RNqTEQ9k8OQ"
      },
      "source": [
        "#nodes repartition\n",
        "\n",
        "class Flower():\n",
        "    ''' Training structure including local models and general one \n",
        "        Computing only the part of loss used at each epoch\n",
        "        Allowing to add and remove nodes at will\n",
        "        .pop\n",
        "        .add_nodes\n",
        "        .rem_nodes\n",
        "        .train\n",
        "        .display\n",
        "        .check\n",
        "    '''\n",
        "\n",
        "    def __init__(self, datafull_test, w_0, gpu=True):\n",
        "        ''' opt : optimizer\n",
        "            datafull_test : test data couple (imgs,labels)\n",
        "            w_0 : regularisation strength\n",
        "        '''\n",
        "        \n",
        "        self.d_test = datafull_test\n",
        "        self.w = w_0\n",
        "        self.gpu = gpu\n",
        "\n",
        "        self.opt = optim.Adam\n",
        "        self.lr_node = 0.001\n",
        "        self.lr_gen = 0.001\n",
        "        self.gen_freq = 1  # generalisation frequency (>0) \n",
        "        if self.gpu:\n",
        "            self.general_model = get_classifier().cuda() \n",
        "#             self.opt_gen = self.opt(self.general_model.parameters(), lr=self.lr_gen)\n",
        "        else:\n",
        "            self.general_model = get_classifier() \n",
        "        self.opt_gen = self.opt(self.general_model.parameters(), lr=self.lr_gen)\n",
        "        self.pow_gen = (1,1)  # choice of norms for Licchavi loss \n",
        "        self.pow_reg = (2,1)  # (internal power, external power)\n",
        "        self.data = []\n",
        "        self.labels = [] \n",
        "        self.typ = []\n",
        "        self.models = []\n",
        "        self.W = []\n",
        "        self.age = []\n",
        "        self.opt_nodes = []\n",
        "        self.nb_nodes = 0\n",
        "        self.dic = {\"honest\" : -1, \"trolls\" : 0, \"zeros\" : 1, \n",
        "                    \"one_evil\" : 2, \"strats\" : 3, \"jokers\" : 4, \"byzantine\" : -1}\n",
        "        self.history = ([], [], [], []) # fit, gen, reg, acc\n",
        "\n",
        "\n",
        "    def add_nodes(self, datafull, pop, typ, fav_lab=(-1,-1), w=0.01):\n",
        "        ''' adds nodes to the Flower \n",
        "            datafull : data to put on node (sampled from it)\n",
        "            pop : (nb of nodes, size of nodes)\n",
        "            typ : type of nodes (str keywords)\n",
        "            fav_lab : (favorite label, strength)\n",
        "            w : int, weight of new nodes\n",
        "        '''\n",
        "        nb, size = pop\n",
        "        id = self.dic[typ]\n",
        "        dish = (id != -1) # boolean for dishonesty\n",
        "        dt, lb = distribute_data_rd(datafull, [size] * nb, fav_lab,\n",
        "                                    dish, dish_lab=id, gpu=self.gpu)\n",
        "        self.data += dt\n",
        "        self.labels += lb\n",
        "        self.typ += [typ] * nb\n",
        "        if self.gpu:\n",
        "            self.models += [get_classifier().cuda() for i in range(nb)]\n",
        "        else:\n",
        "            self.models += [get_classifier() for i in range(nb)]\n",
        "        self.W += [w] * nb\n",
        "        self.age += [0] * nb\n",
        "        self.nb_nodes += nb\n",
        "        self.opt_nodes += [self.opt(self.models[n].parameters(), lr=self.lr_node) \n",
        "            for n in range(self.nb_nodes - nb, self.nb_nodes) \n",
        "            ]\n",
        "        print(\"Added {} {} nodes of {} data points\".format(nb, typ, size))\n",
        "        print(\"Total number of nodes : {}\".format(self.nb_nodes))\n",
        "\n",
        "    def rem_nodes(self, first, last):\n",
        "        ''' removes nodes of indexes -first (included) to -last (excluded) '''\n",
        "        nb = last - first\n",
        "        if last > self.nb_nodes:\n",
        "            print(\"-last is out of range, remove canceled\")\n",
        "        else:\n",
        "            del self.data[first : last]\n",
        "            del self.labels[first : last] \n",
        "            del self.typ[first : last]\n",
        "            del self.models[first : last]\n",
        "            del self.W[first : last]\n",
        "            del self.age[first : last]\n",
        "            del self.opt_nodes[first : last]\n",
        "            self.nb_nodes -= nb\n",
        "            print(\"Removed {} nodes\".format(nb))\n",
        "\n",
        "    def old(self, years):\n",
        "        ''' increments age (after training) '''\n",
        "        for i in range(self.nb_nodes):\n",
        "            self.age[i] += years\n",
        "        \n",
        "    def hm(self, ty):\n",
        "        ''' counts nb of nodes of this type '''\n",
        "        return self.typ.count(ty)\n",
        "    \n",
        "    def pop(self):\n",
        "        ''' returns dictionnary of population '''\n",
        "        c = {}\n",
        "        for ty in self.dic.keys():\n",
        "            c[ty] = self.hm(ty)\n",
        "        return c\n",
        "\n",
        "    def score_glob(self, datafull): \n",
        "        ''' returns accuracy provided images and GTs '''\n",
        "        return score(self.general_model, datafull)\n",
        "\n",
        "    def score_node(self, node, datafull): \n",
        "        ''' returns accuracy provided images and GTs '''\n",
        "        local = score(self.models[node], (self.data[node], self.labels[node]))\n",
        "        test = score(self.models[node], datafull)\n",
        "        return local, test\n",
        "\n",
        "    def display(self, node):\n",
        "        ''' displays accuracy for selected node\n",
        "            node = -1 for global model\n",
        "        '''\n",
        "        if node == -1:\n",
        "            print(\"global model\")\n",
        "            print(\"accuracy on test data :\", \n",
        "                  self.score_glob(self.d_test))\n",
        "        else:\n",
        "            local, test = self.score_node(node, self.d_test)\n",
        "\n",
        "            print(\"node number :\", node, \", dataset size :\",\n",
        "                len(self.labels[node]), \", type :\", self.typ[node], \n",
        "                \", age :\", self.age[node])\n",
        "            print(\"accuracy on its data :\", local)\n",
        "            print(\"accuracy on test data :\", test)\n",
        "            repart = {str(k) : tens_count(self.labels[node], k) \n",
        "                for k in range(10)}\n",
        "            print(\"labels repartition :\", repart)\n",
        "\n",
        "    # --------------------   TRAINING -------------------      \n",
        "    def train(self, nb_epochs=10, test_freq=10):   \n",
        "        '''training loop'''\n",
        "        time_train = time()\n",
        "\n",
        "        for n in range(self.nb_nodes):  # updating lr in optimizers\n",
        "            self.opt_nodes[n].param_groups[0]['lr'] = self.lr_node\n",
        "        self.opt_gen.param_groups[0]['lr'] = self.lr_gen\n",
        "\n",
        "        # initialisation to avoid undefined variables\n",
        "        loss = 0\n",
        "        fitting_loss = 0\n",
        "        harmonisation_loss = 0 \n",
        "        regul_loss = 0\n",
        "        count_fit, count_gen = 0, 0\n",
        "        \n",
        "        for epoch in range(1, nb_epochs+1):\n",
        "            time_ep1 = time()\n",
        "\n",
        "            # fitting or general epoch?\n",
        "            fit_epoch = (count_fit >= count_gen) \n",
        "            if fit_epoch:\n",
        "                count_gen += self.gen_freq\n",
        "            else:\n",
        "                count_fit += 1              \n",
        "            print(\"epoch :\",epoch,'/',nb_epochs, \n",
        "                  \"(fit)\" if fit_epoch else \"(gen)\")\n",
        "\n",
        "            #   only one step because we use all data at every epoch\n",
        "            # for step in range(1): \n",
        "            for n in range(self.nb_nodes):\n",
        "                self.opt_nodes[n].zero_grad()      \n",
        "            self.opt_gen.zero_grad()\n",
        "\n",
        "            \n",
        "\n",
        "\n",
        "            #----------------    Licchavi loss  -------------------------\n",
        "            if fit_epoch: # only first 2 terms of loss updated\n",
        "                fitting_loss = 0\n",
        "                harmonisation_loss = 0 \n",
        "                diff = 0  # used to print correct loss\n",
        "                for n in range(self.nb_nodes):   # for each node\n",
        "                    if self.typ[n] == \"byzantine\":\n",
        "                        fit = local_loss(self.models[n], \n",
        "                                               self.data[n], self.labels[n])\n",
        "                        fitting_loss -= fit\n",
        "                        diff += 2 * fit\n",
        "                    else:\n",
        "                        fitting_loss += local_loss(self.models[n], \n",
        "                                               self.data[n], self.labels[n])\n",
        "                    g = generalisation_loss(self.models[n], \n",
        "                                            self.general_model, self.pow_gen)\n",
        "                    harmonisation_loss +=  self.W[n] * g  # generalisation term   \n",
        "                loss = fitting_loss + harmonisation_loss         \n",
        "\n",
        "            else: # only last 2 terms of loss updated        \n",
        "                harmonisation_loss = 0 \n",
        "                regul_loss = 0\n",
        "                for n in range(self.nb_nodes):   # for each node\n",
        "                    g = generalisation_loss(self.models[n], \n",
        "                                            self.general_model, self.pow_gen)\n",
        "                    harmonisation_loss += self.W[n] * g  #generalisation term    \n",
        "                r = regularisation_loss(self.general_model, self.pow_reg) \n",
        "                regul_loss = self.w * r   # regul term  \n",
        "                loss = harmonisation_loss + regul_loss\n",
        "\n",
        "            total_out = round_loss(fitting_loss + diff\n",
        "                  + harmonisation_loss + regul_loss)\n",
        "            print(\"total loss : \", total_out)  # printing losses\n",
        "            print(\"fitting : \", round_loss(fitting_loss + diff),\n",
        "                  ', harmonisation : ', round_loss(harmonisation_loss),\n",
        "                  ', regularisation : ', round_loss(regul_loss))\n",
        "            \n",
        "            self.history[0].append(round_loss(fitting_loss))\n",
        "            self.history[1].append(round_loss(harmonisation_loss))\n",
        "            self.history[2].append(round_loss(regul_loss)) \n",
        "\n",
        "            # ---------------------   Gradient descent ---------------------\n",
        "            loss.backward()      # backpropagation\n",
        "            if fit_epoch:       # updating local or global alternatively\n",
        "                for n in range(self.nb_nodes): \n",
        "                    self.opt_nodes[n].step()      # updating nodes weights \n",
        "            else:\n",
        "                self.opt_gen.step()       # updating general weights\n",
        "\n",
        "            time_ep2 = time()\n",
        "            print(\"epoch time :\", round(time_ep2 - time_ep1, 2))\n",
        "\n",
        "            if epoch % test_freq == 0:   # printing accuracy on test data\n",
        "                acc = self.score_glob(self.d_test)\n",
        "                print(\"\\nTEST ACCURACY : \", acc)\n",
        "                for i in range(test_freq):\n",
        "                    self.history[3].append(acc) \n",
        "            \n",
        "            self.old(1)  # aging all nodes\n",
        "            if False and not fit_epoch: # TEMPORARY adds nodes between epochs\n",
        "                roll = 100\n",
        "                self.add_nodes(train, (roll, 100), \"honest\", w=0.1)\n",
        "                self.rem_nodes(0, 0 + roll)\n",
        "            \n",
        "            print(\"\\n\")      # epoch end\n",
        "\n",
        "        # ----------------- end of training -------------------------------    \n",
        "        \n",
        "        for i in range(nb_epochs % test_freq): # to maintain same history length\n",
        "            self.history[3].append(acc)\n",
        "        print(\"training time :\", round(time() - time_train, 2)) \n",
        "    \n",
        "    def check(self):\n",
        "        ''' performs some tests on internal parameters adequation '''\n",
        "        b1 =  (self.nb_nodes == len(self.data) == len(self.labels) \n",
        "            == len(self.typ) == len(self.models) == len(self.opt_nodes) \n",
        "            == len(self.W) == len(self.age))\n",
        "        b2 = (len(self.history[0]) == len(self.history[1]) \n",
        "            == len(self.history[2]) == len(self.history[3]) >= max(self.age))\n",
        "        if (b1 and b2):\n",
        "            print(\"No Problem\")\n",
        "        else:\n",
        "            print(\"OULALA non ça va pas là\")\n",
        "        "
      ],
      "execution_count": null,
      "outputs": []
    },
    {
      "cell_type": "code",
      "metadata": {
        "id": "6uk4QB5md44R"
      },
      "source": [
        "def show_loss(flow, title=None):\n",
        "    ''' plots curves of loss evolution of a Flower '''\n",
        "    fit, gen, reg, _ = flow.history\n",
        "    tot = [a + b + c for a, b, c in zip(fit, gen, reg)]\n",
        "    epochs = range(1,len(fit))\n",
        "    plt.plot(epochs, fit[1:],label='fit')\n",
        "    plt.plot(epochs, gen[1:],label='gen')\n",
        "    plt.plot(epochs, reg[1:],label='reg')      #outputs results as a plot\n",
        "    plt.plot(epochs, tot[1:],label='tot')\n",
        "    if title is not None:\n",
        "        plt.title(title)\n",
        "    plt.xlabel(\"Epochs\")\n",
        "    plt.ylabel(\"Loss\")\n",
        "    plt.legend()\n",
        "    plt.show()\n",
        "\n",
        "def show_acc(flow, title=None):\n",
        "    '''' plots curves of accuracy evolution of a Flower '''\n",
        "    acc = flow.history[3]\n",
        "    epochs = range(1,len(acc))\n",
        "    plt.plot(epochs, acc[1:],label='acc')\n",
        "    plt.ylim([0,1])\n",
        "    if title is not None:\n",
        "        plt.title(title)\n",
        "    plt.xlabel(\"Epochs\")\n",
        "    plt.ylabel(\"Test Accuracy\")\n",
        "    plt.legend()\n",
        "    plt.show()"
      ],
      "execution_count": null,
      "outputs": []
    },
    {
      "cell_type": "markdown",
      "metadata": {
        "id": "AHCoX9RGMtoI"
      },
      "source": [
        "## running"
      ]
    },
    {
      "cell_type": "code",
      "metadata": {
        "id": "H4inHbdwNgz4"
      },
      "source": [
        "# downloading data\n",
        "if 1: # to avoid loading data every time\n",
        "    train, test = load_mnist()\n",
        "    test_gpu = torch.tensor(test[0]).cuda(), torch.tensor(test[1]).cuda()"
      ],
      "execution_count": null,
      "outputs": []
    },
    {
      "cell_type": "code",
      "metadata": {
        "id": "dkv4sxEP3X0j"
      },
      "source": [
        "def run_disp(nbn, gpu=True):\n",
        "    ''' creates a flower of honest nodes and trains it for 200 eps\n",
        "        displays graphs of loss and accuracy \n",
        "        nbn : number of nodes\n",
        "    '''\n",
        "    w = 0.05 * nbn\n",
        "    if gpu:\n",
        "        flow = Flower(test_gpu, w, gpu=gpu)\n",
        "    else:\n",
        "        flow = Flower(test, w, gpu=gpu)\n",
        "    ppn = 60_000 // nbn # points per node\n",
        "    flow.add_nodes(train, (nbn, ppn), \"honest\", w=0.005)\n",
        "\n",
        "    epochs = 200\n",
        "    flow.lr_node = 0.001\n",
        "    flow.lr_gen = 0.01\n",
        "    flow.gen_freq = 1\n",
        "    flow.train(epochs, test_freq=1)\n",
        "    flow.check()\n",
        "    text = \"nbn : {}, ppn : {}, lrnode : {}, lrgen : {}, genfrq : {}, eps :{}\"\n",
        "    title = text.format(nbn, ppn, flow.lr_node, \n",
        "                        flow.lr_gen, flow.gen_freq, epochs)\n",
        "    show_acc(flow, title)\n",
        "    show_loss(flow, title)    \n",
        "    return flow"
      ],
      "execution_count": null,
      "outputs": []
    },
    {
      "cell_type": "code",
      "metadata": {
        "id": "B2MJp9My6fqI"
      },
      "source": [
        "flowdisp = run_disp(10_000, gpu=False)"
      ],
      "execution_count": null,
      "outputs": []
    },
    {
      "cell_type": "markdown",
      "metadata": {
        "id": "1VOWD2aPGT43"
      },
      "source": [
        "#manual"
      ]
    },
    {
      "cell_type": "code",
      "metadata": {
        "colab": {
          "base_uri": "https://localhost:8080/"
        },
        "id": "4SIi5Z7Ukd78",
        "outputId": "6d26da22-cb35-468e-bcce-b6f007b47161"
      },
      "source": [
        "tulip.add_nodes(train, (1, 60000), \"honest\", w=1)"
      ],
      "execution_count": null,
      "outputs": [
        {
          "output_type": "stream",
          "text": [
            "Added 1 honest nodes of 60000 data points\n",
            "Total number of nodes : 1\n"
          ],
          "name": "stdout"
        }
      ]
    },
    {
      "cell_type": "code",
      "metadata": {
        "id": "ra5-ZxeKMvGz"
      },
      "source": [
        "tulip.w = 100\n",
        "tulip.lr_node = 0.001\n",
        "tulip.lr_gen = 0.01\n",
        "tulip.gen_freq = 1\n",
        "tulip.train(100, test_freq=2)\n",
        "tulip.check()"
      ],
      "execution_count": null,
      "outputs": []
    },
    {
      "cell_type": "markdown",
      "metadata": {
        "id": "rIv7X1MIW8Qw"
      },
      "source": [
        "###display "
      ]
    },
    {
      "cell_type": "code",
      "metadata": {
        "colab": {
          "base_uri": "https://localhost:8080/",
          "height": 295
        },
        "id": "GXvbqG3DYHNg",
        "outputId": "832767d3-4e82-4cae-9702-42bc65a134a2"
      },
      "source": [
        "show_acc(tulip)"
      ],
      "execution_count": null,
      "outputs": [
        {
          "output_type": "display_data",
          "data": {
            "image/png": "[encoded data removed]",
            "text/plain": [
              "<Figure size 432x288 with 1 Axes>"
            ]
          },
          "metadata": {
            "tags": [],
            "needs_background": "light"
          }
        }
      ]
    },
    {
      "cell_type": "code",
      "metadata": {
        "colab": {
          "base_uri": "https://localhost:8080/"
        },
        "id": "i0vBw-BYAky4",
        "outputId": "42be35c8-0e83-4e32-f74c-f5484984a7cd"
      },
      "source": [
        "tulip.display(0)"
      ],
      "execution_count": null,
      "outputs": [
        {
          "output_type": "stream",
          "text": [
            "node number : 0 , dataset size : 60000 , type : honest , age : 100\n",
            "accuracy on its data : 0.9166333333333333\n",
            "accuracy on test data : 0.9224\n",
            "labels repartition : {'0': 5923, '1': 6742, '2': 5958, '3': 6131, '4': 5842, '5': 5421, '6': 5918, '7': 6265, '8': 5851, '9': 5949}\n"
          ],
          "name": "stdout"
        }
      ]
    },
    {
      "cell_type": "code",
      "metadata": {
        "colab": {
          "base_uri": "https://localhost:8080/",
          "height": 279
        },
        "id": "oFc7OUe-bDIx",
        "outputId": "566c88f8-9019-42ae-e20f-c673a54be0cf"
      },
      "source": [
        "show_loss(tulip)"
      ],
      "execution_count": null,
      "outputs": [
        {
          "output_type": "display_data",
          "data": {
            "image/png": "[encoded data removed]",
            "text/plain": [
              "<Figure size 432x288 with 1 Axes>"
            ]
          },
          "metadata": {
            "tags": [],
            "needs_background": "light"
          }
        }
      ]
    }
  ]
}